{
 "cells": [
  {
   "cell_type": "code",
   "execution_count": 2,
   "metadata": {},
   "outputs": [],
   "source": [
    "%load_ext autoreload\n",
    "%autoreload 2"
   ]
  },
  {
   "cell_type": "markdown",
   "metadata": {
    "vscode": {
     "languageId": "plaintext"
    }
   },
   "source": [
    "# Setup\n"
   ]
  },
  {
   "cell_type": "code",
   "execution_count": 59,
   "metadata": {},
   "outputs": [],
   "source": [
    "import pandas as pd\n",
    "import numpy as np\n",
    "from pathlib import Path\n",
    "from tqdm import tqdm\n",
    "from gensim.models import KeyedVectors\n",
    "from modules.nlp import NLP\n",
    "from modules.visualisation import Visualisation\n",
    "\n",
    "DATA_DIR = Path().cwd() / 'data'\n",
    "EMBEDDINGS_DIR = Path().cwd() / 'embeddings'\n",
    "\n",
    "nlp = NLP()\n",
    "vis = Visualisation()"
   ]
  },
  {
   "cell_type": "markdown",
   "metadata": {},
   "source": [
    "# Text preprocessing"
   ]
  },
  {
   "cell_type": "code",
   "execution_count": 47,
   "metadata": {},
   "outputs": [
    {
     "name": "stderr",
     "output_type": "stream",
     "text": [
      "Tokenizing Reddit text: 100%|██████████| 3127/3127 [00:01<00:00, 1795.33it/s]\n"
     ]
    }
   ],
   "source": [
    "posts_df = pd.read_csv(DATA_DIR / 'reddit_religion_combined.csv')\n",
    "\n",
    "# Remove posts with no text\n",
    "posts_df.dropna(subset='selftext', inplace=True)\n",
    "\n",
    "# Tokenize text and remove stopwords\n",
    "tqdm.pandas(desc='Tokenizing Reddit text')\n",
    "posts_df['tokens'] = posts_df['selftext'].progress_apply(\n",
    "    nlp.tokenize_text)\n",
    "\n",
    "# Drop empty token cells\n",
    "posts_df.dropna(subset=['tokens'], inplace=True)"
   ]
  },
  {
   "cell_type": "markdown",
   "metadata": {},
   "source": [
    "# Embeddings\n"
   ]
  },
  {
   "cell_type": "markdown",
   "metadata": {},
   "source": [
    "**Pretrained embeddings:** Jeffrey Pennington, Richard Socher, and Christopher D. Manning. 2014. GloVe: Global Vectors for Word Representation. Download from [this link](https://nlp.stanford.edu/data/glove.840B.300d.zip).\n"
   ]
  },
  {
   "cell_type": "code",
   "execution_count": 5,
   "metadata": {},
   "outputs": [],
   "source": [
    "word_vectors = KeyedVectors.load_word2vec_format(\n",
    "    EMBEDDINGS_DIR / 'glove.840B.300d.txt', binary=False, no_header=True)"
   ]
  },
  {
   "cell_type": "markdown",
   "metadata": {},
   "source": [
    "**Generating word embeddings**"
   ]
  },
  {
   "cell_type": "code",
   "execution_count": 90,
   "metadata": {},
   "outputs": [
    {
     "name": "stderr",
     "output_type": "stream",
     "text": [
      "Generating weighted embeddings: 100%|██████████| 3077/3077 [00:07<00:00, 421.58it/s]\n"
     ]
    }
   ],
   "source": [
    "# Generate tf-idf matrix\n",
    "tfidf_matrix, feature_names = nlp.generate_tfidf_matrix(\n",
    "    posts_df['tokens'].values.tolist())\n",
    "\n",
    "# Generate word embeddings\n",
    "word_embeddings = nlp.generate_tfidf_weighted_embeddings(\n",
    "    tokens=posts_df['tokens'].values.tolist(), tfidf_matrix=tfidf_matrix,\n",
    "    feature_names=feature_names, word_vectors=word_vectors)\n",
    "posts_df['weighted_embeddings'] = word_embeddings.tolist()\n",
    "\n",
    "# Save processed data\n",
    "posts_df.to_feather(DATA_DIR / 'reddit_religion_combined_embeddings.feather')"
   ]
  },
  {
   "cell_type": "markdown",
   "metadata": {},
   "source": [
    "# Visualisation"
   ]
  },
  {
   "cell_type": "markdown",
   "metadata": {},
   "source": [
    "**Plotting a 3D UMAP projection of the posts' embeddings**"
   ]
  },
  {
   "cell_type": "code",
   "execution_count": null,
   "metadata": {},
   "outputs": [],
   "source": [
    "posts_df['dim_reduced_embeddings'] = vis.reduce_dimensionality(\n",
    "    np.vstack(posts_df['weighted_embeddings'].values))"
   ]
  },
  {
   "cell_type": "code",
   "execution_count": null,
   "metadata": {},
   "outputs": [
    {
     "data": {
      "text/plain": [
       "(3077,)"
      ]
     },
     "execution_count": 94,
     "metadata": {},
     "output_type": "execute_result"
    }
   ],
   "source": []
  }
 ],
 "metadata": {
  "kernelspec": {
   "display_name": ".venv",
   "language": "python",
   "name": "python3"
  },
  "language_info": {
   "codemirror_mode": {
    "name": "ipython",
    "version": 3
   },
   "file_extension": ".py",
   "mimetype": "text/x-python",
   "name": "python",
   "nbconvert_exporter": "python",
   "pygments_lexer": "ipython3",
   "version": "3.10.12"
  }
 },
 "nbformat": 4,
 "nbformat_minor": 2
}
