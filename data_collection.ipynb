{
 "cells": [
  {
   "cell_type": "markdown",
   "metadata": {},
   "source": [
    "# Data Preperation"
   ]
  },
  {
   "cell_type": "markdown",
   "metadata": {},
   "source": [
    "## Data Cleaning"
   ]
  },
  {
   "cell_type": "markdown",
   "metadata": {},
   "source": [
    "### **Importing required Libraries**"
   ]
  },
  {
   "cell_type": "code",
   "execution_count": 1,
   "metadata": {},
   "outputs": [],
   "source": [
    "from modules.praw_scrape import RedditScraper\n",
    "import pandas as pd"
   ]
  },
  {
   "cell_type": "markdown",
   "metadata": {},
   "source": [
    "__Definings Settings Extracted From Reddit Developers Platform__"
   ]
  },
  {
   "cell_type": "code",
   "execution_count": null,
   "metadata": {},
   "outputs": [],
   "source": [
    "client_id = 'IkoxY1QgMx11Qf2TdiOY2A'\n",
    "client_secret = 'NokWCxYxLBIAijqQvvjIBa9SC2SZIQ'\n",
    "user_agent = 'Noddy2003'"
   ]
  },
  {
   "cell_type": "markdown",
   "metadata": {},
   "source": [
    "__Initialising Module Scrapper Object__"
   ]
  },
  {
   "cell_type": "code",
   "execution_count": null,
   "metadata": {},
   "outputs": [],
   "source": [
    "scraper = RedditScraper(client_id, client_secret, user_agent)"
   ]
  },
  {
   "cell_type": "markdown",
   "metadata": {},
   "source": [
    "### **Scraping Subreddit's**\n",
    "1. r/Christianity\n",
    "2. r/islam\n",
    "3. r/hinduism\n",
    "4. r/atheism"
   ]
  },
  {
   "cell_type": "code",
   "execution_count": 8,
   "metadata": {},
   "outputs": [],
   "source": [
    "christianity_data = scraper.scrape_subreddit(\"Christianity\", limit=1000)\n",
    "christianity_df = pd.DataFrame(christianity_data)"
   ]
  },
  {
   "cell_type": "code",
   "execution_count": 10,
   "metadata": {},
   "outputs": [],
   "source": [
    "islam_data = scraper.scrape_subreddit(\"islam\", limit=1000)\n",
    "islam_df = pd.DataFrame(islam_data)"
   ]
  },
  {
   "cell_type": "code",
   "execution_count": 16,
   "metadata": {},
   "outputs": [],
   "source": [
    "hinduism_data = scraper.scrape_subreddit(\"hinduism\", limit=1000)\n",
    "hinduism_df = pd.DataFrame(hinduism_data)"
   ]
  },
  {
   "cell_type": "code",
   "execution_count": 18,
   "metadata": {},
   "outputs": [],
   "source": [
    "atheism_data = scraper.scrape_subreddit(\"atheism\", limit=1000)\n",
    "atheism_df = pd.DataFrame(hinduism_data)"
   ]
  },
  {
   "cell_type": "code",
   "execution_count": null,
   "metadata": {},
   "outputs": [],
   "source": [
    "df = pd.concat([christianity_df, islam_df, hinduism_df,\n",
    "               atheism_df], ignore_index=True)"
   ]
  },
  {
   "cell_type": "code",
   "execution_count": 30,
   "metadata": {},
   "outputs": [
    {
     "data": {
      "text/html": [
       "<div>\n",
       "<style scoped>\n",
       "    .dataframe tbody tr th:only-of-type {\n",
       "        vertical-align: middle;\n",
       "    }\n",
       "\n",
       "    .dataframe tbody tr th {\n",
       "        vertical-align: top;\n",
       "    }\n",
       "\n",
       "    .dataframe thead th {\n",
       "        text-align: right;\n",
       "    }\n",
       "</style>\n",
       "<table border=\"1\" class=\"dataframe\">\n",
       "  <thead>\n",
       "    <tr style=\"text-align: right;\">\n",
       "      <th></th>\n",
       "      <th>ID</th>\n",
       "      <th>title</th>\n",
       "      <th>author</th>\n",
       "      <th>created_time</th>\n",
       "      <th>url</th>\n",
       "      <th>score</th>\n",
       "      <th>permalink</th>\n",
       "      <th>subreddit</th>\n",
       "      <th>selftext</th>\n",
       "      <th>num_comments</th>\n",
       "      <th>is_self</th>\n",
       "      <th>link_flair_text</th>\n",
       "      <th>link_flair_css_class</th>\n",
       "      <th>upvote_ratio</th>\n",
       "      <th>over_18_content</th>\n",
       "      <th>tag</th>\n",
       "    </tr>\n",
       "  </thead>\n",
       "  <tbody>\n",
       "    <tr>\n",
       "      <th>1718</th>\n",
       "      <td>1gaqbtc</td>\n",
       "      <td>Test poast 1.</td>\n",
       "      <td>PastryMurderer</td>\n",
       "      <td>2024-10-24 01:51:49+01:00</td>\n",
       "      <td>https://www.reddit.com/r/islam/comments/1gaqbt...</td>\n",
       "      <td>1</td>\n",
       "      <td>/r/islam/comments/1gaqbtc/test_poast_1/</td>\n",
       "      <td>islam</td>\n",
       "      <td>Ignore me.</td>\n",
       "      <td>1</td>\n",
       "      <td>True</td>\n",
       "      <td>General Discussion</td>\n",
       "      <td>discussion</td>\n",
       "      <td>1.00</td>\n",
       "      <td>False</td>\n",
       "      <td>General Discussion</td>\n",
       "    </tr>\n",
       "    <tr>\n",
       "      <th>1758</th>\n",
       "      <td>1g9ogx4</td>\n",
       "      <td>Is it haram or sin to think about how Allah ca...</td>\n",
       "      <td>MotorIncome6849</td>\n",
       "      <td>2024-10-22 18:55:47+01:00</td>\n",
       "      <td>https://www.reddit.com/r/islam/comments/1g9ogx...</td>\n",
       "      <td>22</td>\n",
       "      <td>/r/islam/comments/1g9ogx4/is_it_haram_or_sin_t...</td>\n",
       "      <td>islam</td>\n",
       "      <td>title\\n</td>\n",
       "      <td>44</td>\n",
       "      <td>True</td>\n",
       "      <td>Question about Islam</td>\n",
       "      <td>question</td>\n",
       "      <td>0.85</td>\n",
       "      <td>False</td>\n",
       "      <td>Question about Islam</td>\n",
       "    </tr>\n",
       "    <tr>\n",
       "      <th>1779</th>\n",
       "      <td>1g9kwhq</td>\n",
       "      <td>How to stop backbiting</td>\n",
       "      <td>Green_Pop_4376</td>\n",
       "      <td>2024-10-22 16:28:25+01:00</td>\n",
       "      <td>https://www.reddit.com/r/islam/comments/1g9kwh...</td>\n",
       "      <td>7</td>\n",
       "      <td>/r/islam/comments/1g9kwhq/how_to_stop_backbiting/</td>\n",
       "      <td>islam</td>\n",
       "      <td>I Cant stop backbiting and talking about peopl...</td>\n",
       "      <td>6</td>\n",
       "      <td>True</td>\n",
       "      <td>General Discussion</td>\n",
       "      <td>discussion</td>\n",
       "      <td>0.89</td>\n",
       "      <td>False</td>\n",
       "      <td>General Discussion</td>\n",
       "    </tr>\n",
       "    <tr>\n",
       "      <th>2892</th>\n",
       "      <td>1ge43f2</td>\n",
       "      <td>Which devata should be worshipped in order to ...</td>\n",
       "      <td>International_Use122</td>\n",
       "      <td>2024-10-28 14:56:56+00:00</td>\n",
       "      <td>https://www.reddit.com/r/hinduism/comments/1ge...</td>\n",
       "      <td>7</td>\n",
       "      <td>/r/hinduism/comments/1ge43f2/which_devata_shou...</td>\n",
       "      <td>hinduism</td>\n",
       "      <td>I understand that traditional methods such as ...</td>\n",
       "      <td>12</td>\n",
       "      <td>True</td>\n",
       "      <td>Question - General</td>\n",
       "      <td></td>\n",
       "      <td>1.00</td>\n",
       "      <td>False</td>\n",
       "      <td>Question - General</td>\n",
       "    </tr>\n",
       "    <tr>\n",
       "      <th>2319</th>\n",
       "      <td>1g7u4p2</td>\n",
       "      <td>Anyone knw about Samba Panchshika?</td>\n",
       "      <td>Winter_Context_2023</td>\n",
       "      <td>2024-10-20 09:29:22+01:00</td>\n",
       "      <td>https://www.reddit.com/r/hinduism/comments/1g7...</td>\n",
       "      <td>4</td>\n",
       "      <td>/r/hinduism/comments/1g7u4p2/anyone_knw_about_...</td>\n",
       "      <td>hinduism</td>\n",
       "      <td>I came across this mystic and secret(gupta) st...</td>\n",
       "      <td>8</td>\n",
       "      <td>True</td>\n",
       "      <td>Hindū Scripture(s)</td>\n",
       "      <td></td>\n",
       "      <td>0.84</td>\n",
       "      <td>False</td>\n",
       "      <td>Hindū Scripture(s)</td>\n",
       "    </tr>\n",
       "  </tbody>\n",
       "</table>\n",
       "</div>"
      ],
      "text/plain": [
       "           ID                                              title  \\\n",
       "1718  1gaqbtc                                      Test poast 1.   \n",
       "1758  1g9ogx4  Is it haram or sin to think about how Allah ca...   \n",
       "1779  1g9kwhq                            How to stop backbiting    \n",
       "2892  1ge43f2  Which devata should be worshipped in order to ...   \n",
       "2319  1g7u4p2                 Anyone knw about Samba Panchshika?   \n",
       "\n",
       "                    author              created_time  \\\n",
       "1718        PastryMurderer 2024-10-24 01:51:49+01:00   \n",
       "1758       MotorIncome6849 2024-10-22 18:55:47+01:00   \n",
       "1779        Green_Pop_4376 2024-10-22 16:28:25+01:00   \n",
       "2892  International_Use122 2024-10-28 14:56:56+00:00   \n",
       "2319   Winter_Context_2023 2024-10-20 09:29:22+01:00   \n",
       "\n",
       "                                                    url  score  \\\n",
       "1718  https://www.reddit.com/r/islam/comments/1gaqbt...      1   \n",
       "1758  https://www.reddit.com/r/islam/comments/1g9ogx...     22   \n",
       "1779  https://www.reddit.com/r/islam/comments/1g9kwh...      7   \n",
       "2892  https://www.reddit.com/r/hinduism/comments/1ge...      7   \n",
       "2319  https://www.reddit.com/r/hinduism/comments/1g7...      4   \n",
       "\n",
       "                                              permalink subreddit  \\\n",
       "1718            /r/islam/comments/1gaqbtc/test_poast_1/     islam   \n",
       "1758  /r/islam/comments/1g9ogx4/is_it_haram_or_sin_t...     islam   \n",
       "1779  /r/islam/comments/1g9kwhq/how_to_stop_backbiting/     islam   \n",
       "2892  /r/hinduism/comments/1ge43f2/which_devata_shou...  hinduism   \n",
       "2319  /r/hinduism/comments/1g7u4p2/anyone_knw_about_...  hinduism   \n",
       "\n",
       "                                               selftext  num_comments  \\\n",
       "1718                                         Ignore me.             1   \n",
       "1758                                            title\\n            44   \n",
       "1779  I Cant stop backbiting and talking about peopl...             6   \n",
       "2892  I understand that traditional methods such as ...            12   \n",
       "2319  I came across this mystic and secret(gupta) st...             8   \n",
       "\n",
       "      is_self       link_flair_text link_flair_css_class  upvote_ratio  \\\n",
       "1718     True    General Discussion           discussion          1.00   \n",
       "1758     True  Question about Islam             question          0.85   \n",
       "1779     True    General Discussion           discussion          0.89   \n",
       "2892     True    Question - General                               1.00   \n",
       "2319     True    Hindū Scripture(s)                               0.84   \n",
       "\n",
       "      over_18_content                   tag  \n",
       "1718            False    General Discussion  \n",
       "1758            False  Question about Islam  \n",
       "1779            False    General Discussion  \n",
       "2892            False    Question - General  \n",
       "2319            False    Hindū Scripture(s)  "
      ]
     },
     "execution_count": 30,
     "metadata": {},
     "output_type": "execute_result"
    }
   ],
   "source": [
    "df.sample()"
   ]
  },
  {
   "cell_type": "markdown",
   "metadata": {},
   "source": [
    "__Exporting Uncleaned Dataset to CSV__"
   ]
  },
  {
   "cell_type": "code",
   "execution_count": 29,
   "metadata": {},
   "outputs": [],
   "source": [
    "df.to_csv(\"data/reddit_religion_combined.csv\", index=False)"
   ]
  },
  {
   "cell_type": "markdown",
   "metadata": {},
   "source": [
    "---"
   ]
  },
  {
   "cell_type": "markdown",
   "metadata": {},
   "source": []
  }
 ],
 "metadata": {
  "kernelspec": {
   "display_name": ".venv",
   "language": "python",
   "name": "python3"
  },
  "language_info": {
   "codemirror_mode": {
    "name": "ipython",
    "version": 3
   },
   "file_extension": ".py",
   "mimetype": "text/x-python",
   "name": "python",
   "nbconvert_exporter": "python",
   "pygments_lexer": "ipython3",
   "version": "3.10.12"
  }
 },
 "nbformat": 4,
 "nbformat_minor": 2
}
