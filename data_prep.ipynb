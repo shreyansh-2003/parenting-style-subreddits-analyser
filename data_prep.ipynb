{
 "cells": [
  {
   "cell_type": "markdown",
   "metadata": {},
   "source": [
    "# Data Preperation"
   ]
  },
  {
   "cell_type": "markdown",
   "metadata": {},
   "source": [
    "### **Importing required Libraries**"
   ]
  },
  {
   "cell_type": "code",
   "execution_count": 2,
   "metadata": {},
   "outputs": [],
   "source": [
    "from modules.praw_scrape import RedditScraper\n",
    "import pandas as pd"
   ]
  },
  {
   "cell_type": "markdown",
   "metadata": {},
   "source": [
    "---"
   ]
  },
  {
   "cell_type": "markdown",
   "metadata": {},
   "source": [
    "> ## Data Collection"
   ]
  },
  {
   "cell_type": "markdown",
   "metadata": {},
   "source": [
    "__Definings Settings Extracted From Reddit Developers Platform__"
   ]
  },
  {
   "cell_type": "code",
   "execution_count": 2,
   "metadata": {},
   "outputs": [],
   "source": [
    "client_id='IkoxY1QgMx11Qf2TdiOY2A'\n",
    "client_secret='NokWCxYxLBIAijqQvvjIBa9SC2SZIQ'\n",
    "user_agent='Noddy2003'\n",
    "\n",
    "start_date = '2015-01-01'\n",
    "end_date = '2024-01-01'"
   ]
  },
  {
   "cell_type": "markdown",
   "metadata": {},
   "source": [
    "__Initialising Module Scrapper Object__"
   ]
  },
  {
   "cell_type": "code",
   "execution_count": 3,
   "metadata": {},
   "outputs": [],
   "source": [
    "reddit = RedditScraper(client_id, client_secret, user_agent)"
   ]
  },
  {
   "cell_type": "markdown",
   "metadata": {},
   "source": [
    "### **Scraping Subreddit's**\n",
    "1. r/Christianity\n",
    "2. r/islam\n",
    "3. r/hinduism\n",
    "4. r/atheism"
   ]
  },
  {
   "cell_type": "code",
   "execution_count": 4,
   "metadata": {},
   "outputs": [
    {
     "name": "stderr",
     "output_type": "stream",
     "text": [
      "2024-11-02 11:40:55,355 - INFO - Starting scrape for r/islam from 2015-01-01 to 2024-01-01\n",
      "2024-11-02 11:40:55,355 - INFO - Trying alternative method using subreddit.top()\n",
      "2024-11-02 11:40:57,584 - INFO - Processed 100 posts\n",
      "2024-11-02 11:40:59,707 - INFO - Processed 200 posts\n",
      "2024-11-02 11:41:01,173 - INFO - Processed 300 posts\n",
      "2024-11-02 11:41:03,265 - INFO - Processed 400 posts\n",
      "2024-11-02 11:41:05,101 - INFO - Processed 500 posts\n",
      "2024-11-02 11:41:06,917 - INFO - Processed 600 posts\n",
      "2024-11-02 11:41:08,619 - INFO - Processed 700 posts\n",
      "2024-11-02 11:41:10,240 - INFO - Processed 800 posts\n",
      "2024-11-02 11:41:12,007 - INFO - Processed 900 posts\n",
      "2024-11-02 11:41:13,293 - INFO - Added 997 posts using top/all\n",
      "2024-11-02 11:41:17,006 - INFO - Processed 100 posts\n",
      "2024-11-02 11:41:18,644 - INFO - Processed 200 posts\n",
      "2024-11-02 11:41:20,323 - INFO - Processed 300 posts\n",
      "2024-11-02 11:41:22,169 - INFO - Processed 400 posts\n",
      "2024-11-02 11:41:24,189 - INFO - Processed 500 posts\n",
      "2024-11-02 11:41:25,911 - INFO - Processed 600 posts\n",
      "2024-11-02 11:41:27,386 - INFO - Processed 700 posts\n",
      "2024-11-02 11:41:29,382 - INFO - Processed 800 posts\n",
      "2024-11-02 11:41:31,997 - INFO - Processed 900 posts\n",
      "2024-11-02 11:41:33,280 - INFO - Added 998 posts using top/year\n",
      "2024-11-02 11:41:37,077 - INFO - Processed 100 posts\n",
      "2024-11-02 11:41:38,911 - INFO - Processed 200 posts\n",
      "2024-11-02 11:41:40,378 - INFO - Processed 300 posts\n",
      "2024-11-02 11:41:41,660 - INFO - Processed 400 posts\n",
      "2024-11-02 11:41:42,977 - INFO - Processed 500 posts\n",
      "2024-11-02 11:41:44,443 - INFO - Processed 600 posts\n",
      "2024-11-02 11:41:46,051 - INFO - Processed 700 posts\n",
      "2024-11-02 11:41:47,538 - INFO - Processed 800 posts\n",
      "2024-11-02 11:41:48,928 - INFO - Processed 900 posts\n",
      "2024-11-02 11:41:49,987 - INFO - Added 998 posts using top/month\n"
     ]
    }
   ],
   "source": [
    "# Islam subreddit\n",
    "subreddit_name = 'islam'\n",
    "islam_data = reddit.scrape_subreddit(subreddit_name, start_date, end_date)\n",
    "islam_df = pd.DataFrame(islam_data)"
   ]
  },
  {
   "cell_type": "code",
   "execution_count": 5,
   "metadata": {},
   "outputs": [
    {
     "name": "stderr",
     "output_type": "stream",
     "text": [
      "2024-11-02 11:41:52,021 - INFO - Starting scrape for r/atheism from 2015-01-01 to 2024-01-01\n",
      "2024-11-02 11:41:52,021 - INFO - Trying alternative method using subreddit.top()\n",
      "2024-11-02 11:41:53,892 - INFO - Processed 100 posts\n",
      "2024-11-02 11:41:55,285 - INFO - Processed 200 posts\n",
      "2024-11-02 11:41:56,812 - INFO - Processed 300 posts\n",
      "2024-11-02 11:41:58,311 - INFO - Processed 400 posts\n",
      "2024-11-02 11:41:59,875 - INFO - Processed 500 posts\n",
      "2024-11-02 11:42:01,340 - INFO - Processed 600 posts\n",
      "2024-11-02 11:42:02,957 - INFO - Processed 700 posts\n",
      "2024-11-02 11:42:04,757 - INFO - Processed 800 posts\n",
      "2024-11-02 11:42:06,224 - INFO - Processed 900 posts\n",
      "2024-11-02 11:42:07,112 - INFO - Added 990 posts using top/all\n",
      "2024-11-02 11:42:10,837 - INFO - Processed 100 posts\n",
      "2024-11-02 11:42:12,664 - INFO - Processed 200 posts\n",
      "2024-11-02 11:42:14,455 - INFO - Processed 300 posts\n",
      "2024-11-02 11:42:16,407 - INFO - Processed 400 posts\n",
      "2024-11-02 11:42:18,462 - INFO - Processed 500 posts\n",
      "2024-11-02 11:42:20,571 - INFO - Processed 600 posts\n",
      "2024-11-02 11:42:22,657 - INFO - Processed 700 posts\n",
      "2024-11-02 11:42:24,757 - INFO - Processed 800 posts\n",
      "2024-11-02 11:42:26,818 - INFO - Processed 900 posts\n",
      "2024-11-02 11:42:28,572 - INFO - Processed 1000 posts\n",
      "2024-11-02 11:42:29,060 - INFO - Added 1000 posts using top/year\n",
      "2024-11-02 11:42:32,244 - INFO - Processed 100 posts\n",
      "2024-11-02 11:42:33,790 - INFO - Processed 200 posts\n",
      "2024-11-02 11:42:35,408 - INFO - Processed 300 posts\n",
      "2024-11-02 11:42:37,247 - INFO - Processed 400 posts\n",
      "2024-11-02 11:42:38,700 - INFO - Processed 500 posts\n",
      "2024-11-02 11:42:40,150 - INFO - Processed 600 posts\n",
      "2024-11-02 11:42:41,683 - INFO - Processed 700 posts\n",
      "2024-11-02 11:42:44,321 - INFO - Processed 800 posts\n",
      "2024-11-02 11:42:46,312 - INFO - Processed 900 posts\n",
      "2024-11-02 11:42:48,062 - INFO - Added 999 posts using top/month\n"
     ]
    }
   ],
   "source": [
    "# Athiesm subreddit\n",
    "subreddit_name = 'atheism'\n",
    "atheism_data = reddit.scrape_subreddit(subreddit_name, start_date, end_date)\n",
    "atheism_df = pd.DataFrame(islam_data)"
   ]
  },
  {
   "cell_type": "code",
   "execution_count": 6,
   "metadata": {},
   "outputs": [
    {
     "name": "stderr",
     "output_type": "stream",
     "text": [
      "2024-11-02 11:42:50,115 - INFO - Starting scrape for r/Christianity from 2015-01-01 to 2024-01-01\n",
      "2024-11-02 11:42:50,116 - INFO - Trying alternative method using subreddit.top()\n",
      "2024-11-02 11:42:52,200 - INFO - Processed 100 posts\n",
      "2024-11-02 11:42:54,254 - INFO - Processed 200 posts\n",
      "2024-11-02 11:42:56,333 - INFO - Processed 300 posts\n",
      "2024-11-02 11:42:58,210 - INFO - Processed 400 posts\n",
      "2024-11-02 11:43:00,524 - INFO - Processed 500 posts\n",
      "2024-11-02 11:43:02,369 - INFO - Processed 600 posts\n",
      "2024-11-02 11:43:04,436 - INFO - Processed 700 posts\n",
      "2024-11-02 11:43:06,525 - INFO - Processed 800 posts\n",
      "2024-11-02 11:43:08,550 - INFO - Processed 900 posts\n",
      "2024-11-02 11:43:10,409 - INFO - Added 999 posts using top/all\n",
      "2024-11-02 11:43:14,026 - INFO - Processed 100 posts\n",
      "2024-11-02 11:43:15,565 - INFO - Processed 200 posts\n",
      "2024-11-02 11:43:16,978 - INFO - Processed 300 posts\n",
      "2024-11-02 11:43:18,542 - INFO - Processed 400 posts\n",
      "2024-11-02 11:43:20,002 - INFO - Processed 500 posts\n",
      "2024-11-02 11:43:21,963 - INFO - Processed 600 posts\n",
      "2024-11-02 11:43:23,424 - INFO - Processed 700 posts\n",
      "2024-11-02 11:43:24,880 - INFO - Processed 800 posts\n",
      "2024-11-02 11:43:26,493 - INFO - Processed 900 posts\n",
      "2024-11-02 11:43:27,515 - INFO - Added 999 posts using top/year\n",
      "2024-11-02 11:43:31,163 - INFO - Processed 100 posts\n",
      "2024-11-02 11:43:32,727 - INFO - Processed 200 posts\n",
      "2024-11-02 11:43:34,107 - INFO - Processed 300 posts\n",
      "2024-11-02 11:43:35,397 - INFO - Processed 400 posts\n",
      "2024-11-02 11:43:36,510 - INFO - Processed 500 posts\n",
      "2024-11-02 11:43:37,628 - INFO - Processed 600 posts\n",
      "2024-11-02 11:43:38,900 - INFO - Processed 700 posts\n",
      "2024-11-02 11:43:40,156 - INFO - Processed 800 posts\n",
      "2024-11-02 11:43:41,391 - INFO - Processed 900 posts\n",
      "2024-11-02 11:43:42,520 - INFO - Added 998 posts using top/month\n"
     ]
    }
   ],
   "source": [
    "# Christianity subreddit\n",
    "subreddit_name = 'Christianity'\n",
    "christianity_data = reddit.scrape_subreddit(subreddit_name, start_date, end_date)\n",
    "christianity_df = pd.DataFrame(islam_data)"
   ]
  },
  {
   "cell_type": "code",
   "execution_count": 7,
   "metadata": {},
   "outputs": [
    {
     "name": "stderr",
     "output_type": "stream",
     "text": [
      "2024-11-02 11:43:44,568 - INFO - Starting scrape for r/hinduism from 2015-01-01 to 2024-01-01\n",
      "2024-11-02 11:43:44,569 - INFO - Trying alternative method using subreddit.top()\n",
      "2024-11-02 11:43:46,629 - INFO - Processed 100 posts\n",
      "2024-11-02 11:43:48,226 - INFO - Processed 200 posts\n",
      "2024-11-02 11:43:49,672 - INFO - Processed 300 posts\n",
      "2024-11-02 11:43:51,126 - INFO - Processed 400 posts\n",
      "2024-11-02 11:43:52,554 - INFO - Processed 500 posts\n",
      "2024-11-02 11:43:54,470 - INFO - Processed 600 posts\n",
      "2024-11-02 11:43:56,028 - INFO - Processed 700 posts\n",
      "2024-11-02 11:43:57,904 - INFO - Processed 800 posts\n",
      "2024-11-02 11:43:59,644 - INFO - Processed 900 posts\n",
      "2024-11-02 11:44:00,923 - INFO - Added 999 posts using top/all\n",
      "2024-11-02 11:44:04,535 - INFO - Processed 100 posts\n",
      "2024-11-02 11:44:06,069 - INFO - Processed 200 posts\n",
      "2024-11-02 11:44:07,785 - INFO - Processed 300 posts\n",
      "2024-11-02 11:44:09,438 - INFO - Processed 400 posts\n",
      "2024-11-02 11:44:11,136 - INFO - Processed 500 posts\n",
      "2024-11-02 11:44:12,904 - INFO - Processed 600 posts\n",
      "2024-11-02 11:44:14,947 - INFO - Processed 700 posts\n",
      "2024-11-02 11:44:16,763 - INFO - Processed 800 posts\n",
      "2024-11-02 11:44:18,516 - INFO - Processed 900 posts\n",
      "2024-11-02 11:44:20,108 - INFO - Processed 1000 posts\n",
      "2024-11-02 11:44:20,254 - INFO - Added 1000 posts using top/year\n",
      "2024-11-02 11:44:24,369 - INFO - Processed 100 posts\n",
      "2024-11-02 11:44:26,001 - INFO - Processed 200 posts\n",
      "2024-11-02 11:44:27,753 - INFO - Processed 300 posts\n",
      "2024-11-02 11:44:29,082 - INFO - Processed 400 posts\n",
      "2024-11-02 11:44:30,242 - INFO - Processed 500 posts\n",
      "2024-11-02 11:44:32,270 - INFO - Processed 600 posts\n",
      "2024-11-02 11:44:33,996 - INFO - Processed 700 posts\n",
      "2024-11-02 11:44:35,598 - INFO - Processed 800 posts\n",
      "2024-11-02 11:44:36,660 - INFO - Processed 900 posts\n",
      "2024-11-02 11:44:37,406 - INFO - Processed 1000 posts\n",
      "2024-11-02 11:44:37,564 - INFO - Added 1000 posts using top/month\n"
     ]
    }
   ],
   "source": [
    "# Hinduism subreddit\n",
    "subreddit_name = 'hinduism'\n",
    "hinduism_data = reddit.scrape_subreddit(subreddit_name, start_date, end_date)\n",
    "hinduism_df = pd.DataFrame(islam_data)"
   ]
  },
  {
   "cell_type": "code",
   "execution_count": 8,
   "metadata": {},
   "outputs": [],
   "source": [
    "df = pd.concat([christianity_df, islam_df, hinduism_df, atheism_df], ignore_index=True)"
   ]
  },
  {
   "cell_type": "code",
   "execution_count": 9,
   "metadata": {},
   "outputs": [
    {
     "data": {
      "text/html": [
       "<div>\n",
       "<style scoped>\n",
       "    .dataframe tbody tr th:only-of-type {\n",
       "        vertical-align: middle;\n",
       "    }\n",
       "\n",
       "    .dataframe tbody tr th {\n",
       "        vertical-align: top;\n",
       "    }\n",
       "\n",
       "    .dataframe thead th {\n",
       "        text-align: right;\n",
       "    }\n",
       "</style>\n",
       "<table border=\"1\" class=\"dataframe\">\n",
       "  <thead>\n",
       "    <tr style=\"text-align: right;\">\n",
       "      <th></th>\n",
       "      <th>ID</th>\n",
       "      <th>title</th>\n",
       "      <th>author</th>\n",
       "      <th>created_time</th>\n",
       "      <th>url</th>\n",
       "      <th>score</th>\n",
       "      <th>permalink</th>\n",
       "      <th>subreddit</th>\n",
       "      <th>selftext</th>\n",
       "      <th>num_comments</th>\n",
       "      <th>is_self</th>\n",
       "      <th>link_flair_text</th>\n",
       "      <th>link_flair_css_class</th>\n",
       "      <th>upvote_ratio</th>\n",
       "      <th>over_18_content</th>\n",
       "      <th>tag</th>\n",
       "    </tr>\n",
       "  </thead>\n",
       "  <tbody>\n",
       "    <tr>\n",
       "      <th>6330</th>\n",
       "      <td>43of87</td>\n",
       "      <td>You can be a socialist and follow Jesus. You c...</td>\n",
       "      <td>pilgrimboy</td>\n",
       "      <td>2016-02-01 13:26:39+00:00</td>\n",
       "      <td>https://www.reddit.com/r/Christianity/comments...</td>\n",
       "      <td>1300</td>\n",
       "      <td>/r/Christianity/comments/43of87/you_can_be_a_s...</td>\n",
       "      <td>Christianity</td>\n",
       "      <td></td>\n",
       "      <td>782</td>\n",
       "      <td>True</td>\n",
       "      <td></td>\n",
       "      <td></td>\n",
       "      <td>0.95</td>\n",
       "      <td>False</td>\n",
       "      <td></td>\n",
       "    </tr>\n",
       "    <tr>\n",
       "      <th>7882</th>\n",
       "      <td>1b8wvvj</td>\n",
       "      <td>Trying to be a Christian but all these rules m...</td>\n",
       "      <td>Dead_RobotLT</td>\n",
       "      <td>2024-03-07 15:06:00+00:00</td>\n",
       "      <td>https://www.reddit.com/r/Christianity/comments...</td>\n",
       "      <td>175</td>\n",
       "      <td>/r/Christianity/comments/1b8wvvj/trying_to_be_...</td>\n",
       "      <td>Christianity</td>\n",
       "      <td>Most of the things I love are sins. Can’t go o...</td>\n",
       "      <td>377</td>\n",
       "      <td>True</td>\n",
       "      <td></td>\n",
       "      <td></td>\n",
       "      <td>0.86</td>\n",
       "      <td>False</td>\n",
       "      <td></td>\n",
       "    </tr>\n",
       "    <tr>\n",
       "      <th>480</th>\n",
       "      <td>p8ag0f</td>\n",
       "      <td>Muslim astronaut describes prayer in space</td>\n",
       "      <td>orange-m</td>\n",
       "      <td>2021-08-20 18:59:42+01:00</td>\n",
       "      <td>https://v.redd.it/afj9rld4yji71</td>\n",
       "      <td>1337</td>\n",
       "      <td>/r/islam/comments/p8ag0f/muslim_astronaut_desc...</td>\n",
       "      <td>islam</td>\n",
       "      <td></td>\n",
       "      <td>68</td>\n",
       "      <td>False</td>\n",
       "      <td>Video</td>\n",
       "      <td>video</td>\n",
       "      <td>0.95</td>\n",
       "      <td>False</td>\n",
       "      <td>Video</td>\n",
       "    </tr>\n",
       "    <tr>\n",
       "      <th>83</th>\n",
       "      <td>otzppd</td>\n",
       "      <td>Sheikh dies while giving lesson</td>\n",
       "      <td>Abhorrent-Knight</td>\n",
       "      <td>2021-07-29 16:29:55+01:00</td>\n",
       "      <td>https://v.redd.it/uksewsif56e71</td>\n",
       "      <td>2381</td>\n",
       "      <td>/r/islam/comments/otzppd/sheikh_dies_while_giv...</td>\n",
       "      <td>islam</td>\n",
       "      <td></td>\n",
       "      <td>163</td>\n",
       "      <td>False</td>\n",
       "      <td>Video</td>\n",
       "      <td>video</td>\n",
       "      <td>0.97</td>\n",
       "      <td>True</td>\n",
       "      <td>Video</td>\n",
       "    </tr>\n",
       "    <tr>\n",
       "      <th>23361</th>\n",
       "      <td>1gbwf40</td>\n",
       "      <td>when you realise these facts, then your all qu...</td>\n",
       "      <td>av457av</td>\n",
       "      <td>2024-10-25 16:05:06+01:00</td>\n",
       "      <td>https://www.reddit.com/r/hinduism/comments/1gb...</td>\n",
       "      <td>10</td>\n",
       "      <td>/r/hinduism/comments/1gbwf40/when_you_realise_...</td>\n",
       "      <td>hinduism</td>\n",
       "      <td>1– Bhagwan Ji cannot differentiate whatsoever ...</td>\n",
       "      <td>22</td>\n",
       "      <td>True</td>\n",
       "      <td>Other</td>\n",
       "      <td></td>\n",
       "      <td>0.57</td>\n",
       "      <td>False</td>\n",
       "      <td>Other</td>\n",
       "    </tr>\n",
       "  </tbody>\n",
       "</table>\n",
       "</div>"
      ],
      "text/plain": [
       "            ID                                              title  \\\n",
       "6330    43of87  You can be a socialist and follow Jesus. You c...   \n",
       "7882   1b8wvvj  Trying to be a Christian but all these rules m...   \n",
       "480     p8ag0f         Muslim astronaut describes prayer in space   \n",
       "83      otzppd                    Sheikh dies while giving lesson   \n",
       "23361  1gbwf40  when you realise these facts, then your all qu...   \n",
       "\n",
       "                 author              created_time  \\\n",
       "6330         pilgrimboy 2016-02-01 13:26:39+00:00   \n",
       "7882       Dead_RobotLT 2024-03-07 15:06:00+00:00   \n",
       "480            orange-m 2021-08-20 18:59:42+01:00   \n",
       "83     Abhorrent-Knight 2021-07-29 16:29:55+01:00   \n",
       "23361           av457av 2024-10-25 16:05:06+01:00   \n",
       "\n",
       "                                                     url  score  \\\n",
       "6330   https://www.reddit.com/r/Christianity/comments...   1300   \n",
       "7882   https://www.reddit.com/r/Christianity/comments...    175   \n",
       "480                      https://v.redd.it/afj9rld4yji71   1337   \n",
       "83                       https://v.redd.it/uksewsif56e71   2381   \n",
       "23361  https://www.reddit.com/r/hinduism/comments/1gb...     10   \n",
       "\n",
       "                                               permalink     subreddit  \\\n",
       "6330   /r/Christianity/comments/43of87/you_can_be_a_s...  Christianity   \n",
       "7882   /r/Christianity/comments/1b8wvvj/trying_to_be_...  Christianity   \n",
       "480    /r/islam/comments/p8ag0f/muslim_astronaut_desc...         islam   \n",
       "83     /r/islam/comments/otzppd/sheikh_dies_while_giv...         islam   \n",
       "23361  /r/hinduism/comments/1gbwf40/when_you_realise_...      hinduism   \n",
       "\n",
       "                                                selftext  num_comments  \\\n",
       "6330                                                               782   \n",
       "7882   Most of the things I love are sins. Can’t go o...           377   \n",
       "480                                                                 68   \n",
       "83                                                                 163   \n",
       "23361  1– Bhagwan Ji cannot differentiate whatsoever ...            22   \n",
       "\n",
       "       is_self link_flair_text link_flair_css_class  upvote_ratio  \\\n",
       "6330      True                                               0.95   \n",
       "7882      True                                               0.86   \n",
       "480      False           Video                video          0.95   \n",
       "83       False           Video                video          0.97   \n",
       "23361     True           Other                               0.57   \n",
       "\n",
       "       over_18_content    tag  \n",
       "6330             False         \n",
       "7882             False         \n",
       "480              False  Video  \n",
       "83                True  Video  \n",
       "23361            False  Other  "
      ]
     },
     "execution_count": 9,
     "metadata": {},
     "output_type": "execute_result"
    }
   ],
   "source": [
    "df.sample(5)"
   ]
  },
  {
   "cell_type": "code",
   "execution_count": 19,
   "metadata": {},
   "outputs": [
    {
     "name": "stdout",
     "output_type": "stream",
     "text": [
      "Total number of posts gathered: 41920\n"
     ]
    }
   ],
   "source": [
    "print(f\"Total number of posts gathered: {len(df)}\")"
   ]
  },
  {
   "cell_type": "code",
   "execution_count": 11,
   "metadata": {},
   "outputs": [
    {
     "name": "stdout",
     "output_type": "stream",
     "text": [
      "Christianity subreddit date range\n",
      "Posts Start date: 2011-09-11 06:09:46+01:00\n",
      "Posts End date: 2024-11-02 02:12:24+00:00\n"
     ]
    }
   ],
   "source": [
    "# Christianity subreddit date range\n",
    "print(\"Christianity subreddit date range\")\n",
    "\n",
    "print(f\"Posts Start date: {christianity_df.created_time.min()}\")\n",
    "print(f\"Posts End date: {christianity_df.created_time.max()}\")"
   ]
  },
  {
   "cell_type": "code",
   "execution_count": 12,
   "metadata": {},
   "outputs": [
    {
     "name": "stdout",
     "output_type": "stream",
     "text": [
      "Islam subreddit date range\n",
      "Posts Start date: 2011-09-11 06:09:46+01:00\n",
      "Posts End date: 2024-11-02 01:40:21+00:00\n"
     ]
    }
   ],
   "source": [
    "# islam subreddit date range\n",
    "print(\"Islam subreddit date range\")\n",
    "\n",
    "print(f\"Posts Start date: {islam_df.created_time.min()}\")\n",
    "print(f\"Posts End date: {islam_df.created_time.max()}\")"
   ]
  },
  {
   "cell_type": "code",
   "execution_count": 13,
   "metadata": {},
   "outputs": [
    {
     "name": "stdout",
     "output_type": "stream",
     "text": [
      "Hinduism subreddit date range\n",
      "Posts Start date: 2011-09-11 06:09:46+01:00\n",
      "Posts End date: 2024-11-02 02:59:37+00:00\n"
     ]
    }
   ],
   "source": [
    "# hinduism subreddit date range\n",
    "print(\"Hinduism subreddit date range\")\n",
    "\n",
    "print(f\"Posts Start date: {hinduism_df.created_time.min()}\")\n",
    "print(f\"Posts End date: {hinduism_df.created_time.max()}\")"
   ]
  },
  {
   "cell_type": "code",
   "execution_count": 14,
   "metadata": {},
   "outputs": [
    {
     "name": "stdout",
     "output_type": "stream",
     "text": [
      "Atheism subreddit date range\n",
      "Posts Start date: 2011-09-11 06:09:46+01:00\n",
      "Posts End date: 2024-11-02 01:40:21+00:00\n"
     ]
    }
   ],
   "source": [
    "# atheism subreddit date range\n",
    "print(\"Atheism subreddit date range\")\n",
    "\n",
    "print(f\"Posts Start date: {atheism_df.created_time.min()}\")\n",
    "print(f\"Posts End date: {atheism_df.created_time.max()}\")"
   ]
  },
  {
   "cell_type": "markdown",
   "metadata": {},
   "source": [
    "__Exporting Uncleaned Dataset to CSV__"
   ]
  },
  {
   "cell_type": "code",
   "execution_count": 19,
   "metadata": {},
   "outputs": [],
   "source": [
    "df.to_csv(\"data/reddit_religion_combined.csv\", index=False)"
   ]
  },
  {
   "cell_type": "code",
   "execution_count": 6,
   "metadata": {},
   "outputs": [],
   "source": [
    "import pandas as pd\n",
    "df = pd.read_csv(\"data/reddit_religion_combined.csv\")"
   ]
  },
  {
   "cell_type": "markdown",
   "metadata": {},
   "source": [
    "---"
   ]
  },
  {
   "cell_type": "markdown",
   "metadata": {},
   "source": [
    "## Data Filtering"
   ]
  },
  {
   "cell_type": "markdown",
   "metadata": {},
   "source": [
    "Providing a **filtered down** version of the Dataset to the LLM with the prompt given below.<br>\n",
    "\n",
    "#### Prompt\n",
    "\"Populate the 'parent_bool' column, a boolean field, based on the content of the 'title' column. Set 'parent_bool' to `True` if the 'title' suggests that the post relates to parenting concerns or exclamations. Otherwise, set 'parent_bool' to `False` for titles that do not reference discussions about parenting or interactions involving children.\""
   ]
  },
  {
   "cell_type": "code",
   "execution_count": 4,
   "metadata": {},
   "outputs": [],
   "source": [
    "bc_df = df[['ID','title',]]"
   ]
  },
  {
   "cell_type": "code",
   "execution_count": 5,
   "metadata": {},
   "outputs": [
    {
     "name": "stderr",
     "output_type": "stream",
     "text": [
      "/tmp/ipykernel_59079/222289600.py:1: SettingWithCopyWarning: \n",
      "A value is trying to be set on a copy of a slice from a DataFrame.\n",
      "Try using .loc[row_indexer,col_indexer] = value instead\n",
      "\n",
      "See the caveats in the documentation: https://pandas.pydata.org/pandas-docs/stable/user_guide/indexing.html#returning-a-view-versus-a-copy\n",
      "  bc_df['parent_bool'] = None\n"
     ]
    }
   ],
   "source": [
    "bc_df['parent_bool'] = None"
   ]
  },
  {
   "cell_type": "code",
   "execution_count": 7,
   "metadata": {},
   "outputs": [
    {
     "data": {
      "text/html": [
       "<div>\n",
       "<style scoped>\n",
       "    .dataframe tbody tr th:only-of-type {\n",
       "        vertical-align: middle;\n",
       "    }\n",
       "\n",
       "    .dataframe tbody tr th {\n",
       "        vertical-align: top;\n",
       "    }\n",
       "\n",
       "    .dataframe thead th {\n",
       "        text-align: right;\n",
       "    }\n",
       "</style>\n",
       "<table border=\"1\" class=\"dataframe\">\n",
       "  <thead>\n",
       "    <tr style=\"text-align: right;\">\n",
       "      <th></th>\n",
       "      <th>ID</th>\n",
       "      <th>title</th>\n",
       "      <th>parent_bool</th>\n",
       "    </tr>\n",
       "  </thead>\n",
       "  <tbody>\n",
       "    <tr>\n",
       "      <th>20590</th>\n",
       "      <td>1g63l7e</td>\n",
       "      <td>Will I get the same reward if I silently read ...</td>\n",
       "      <td>None</td>\n",
       "    </tr>\n",
       "    <tr>\n",
       "      <th>19234</th>\n",
       "      <td>1fnfi26</td>\n",
       "      <td>Can we just take a moment to say alhamdulillah...</td>\n",
       "      <td>None</td>\n",
       "    </tr>\n",
       "    <tr>\n",
       "      <th>2421</th>\n",
       "      <td>1g276hz</td>\n",
       "      <td>Cross on my body but wanting to convert</td>\n",
       "      <td>None</td>\n",
       "    </tr>\n",
       "  </tbody>\n",
       "</table>\n",
       "</div>"
      ],
      "text/plain": [
       "            ID                                              title parent_bool\n",
       "20590  1g63l7e  Will I get the same reward if I silently read ...        None\n",
       "19234  1fnfi26  Can we just take a moment to say alhamdulillah...        None\n",
       "2421   1g276hz            Cross on my body but wanting to convert        None"
      ]
     },
     "execution_count": 7,
     "metadata": {},
     "output_type": "execute_result"
    }
   ],
   "source": [
    "bc_df.sample(3)"
   ]
  },
  {
   "cell_type": "code",
   "execution_count": null,
   "metadata": {},
   "outputs": [],
   "source": [
    "bc_df.to_csv(\"data/llm_parenting_decision.csv\", index=False)"
   ]
  }
 ],
 "metadata": {
  "kernelspec": {
   "display_name": ".venv",
   "language": "python",
   "name": "python3"
  },
  "language_info": {
   "codemirror_mode": {
    "name": "ipython",
    "version": 3
   },
   "file_extension": ".py",
   "mimetype": "text/x-python",
   "name": "python",
   "nbconvert_exporter": "python",
   "pygments_lexer": "ipython3",
   "version": "3.12.3"
  }
 },
 "nbformat": 4,
 "nbformat_minor": 2
}
