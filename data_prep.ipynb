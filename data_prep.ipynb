{
 "cells": [
  {
   "cell_type": "markdown",
   "metadata": {},
   "source": [
    "# Data Preperation"
   ]
  },
  {
   "cell_type": "markdown",
   "metadata": {},
   "source": [
    "### **Importing required Libraries**"
   ]
  },
  {
   "cell_type": "code",
   "execution_count": 1,
   "metadata": {},
   "outputs": [
    {
     "name": "stderr",
     "output_type": "stream",
     "text": [
      "[nltk_data] Downloading package stopwords to /home/shreyansh-\n",
      "[nltk_data]     padaarha/nltk_data...\n",
      "[nltk_data]   Package stopwords is already up-to-date!\n",
      "[nltk_data] Downloading package punkt to /home/shreyansh-\n",
      "[nltk_data]     padaarha/nltk_data...\n",
      "[nltk_data]   Package punkt is already up-to-date!\n"
     ]
    }
   ],
   "source": [
    "from modules.praw_scrape import RedditScraper\n",
    "import pandas as pd\n",
    "from modules.text_preprocess import clean_text"
   ]
  },
  {
   "cell_type": "markdown",
   "metadata": {},
   "source": [
    "---"
   ]
  },
  {
   "cell_type": "markdown",
   "metadata": {},
   "source": [
    "> ## Data Collection "
   ]
  },
  {
   "cell_type": "markdown",
   "metadata": {},
   "source": [
    "__Definings Settings Extracted From Reddit Developers Platform__"
   ]
  },
  {
   "cell_type": "code",
   "execution_count": 2,
   "metadata": {},
   "outputs": [],
   "source": [
    "client_id='IkoxY1QgMx11Qf2TdiOY2A'\n",
    "client_secret='NokWCxYxLBIAijqQvvjIBa9SC2SZIQ'\n",
    "user_agent='Noddy2003'\n",
    "\n",
    "start_date = '2015-01-01'\n",
    "end_date = '2024-01-01'"
   ]
  },
  {
   "cell_type": "markdown",
   "metadata": {},
   "source": [
    "__Initialising Module Scrapper Object__"
   ]
  },
  {
   "cell_type": "code",
   "execution_count": 3,
   "metadata": {},
   "outputs": [],
   "source": [
    "reddit = RedditScraper(client_id, client_secret, user_agent)"
   ]
  },
  {
   "cell_type": "markdown",
   "metadata": {},
   "source": [
    "### **Scraping Subreddit's**\n",
    "1. r/atheistparents\n",
    "2. r/MuslimParenting\n",
    "3. r/CatholicParenting\n",
    "4. r/parenting"
   ]
  },
  {
   "cell_type": "code",
   "execution_count": null,
   "metadata": {},
   "outputs": [
    {
     "name": "stderr",
     "output_type": "stream",
     "text": [
      "2024-11-04 16:55:12,886 - INFO - Starting scrape for r/atheistparents from 2015-01-01 to 2024-01-01\n",
      "2024-11-04 16:55:12,887 - INFO - Attempting to scrape using the subreddit.top() method.\n",
      "2024-11-04 16:55:14,477 - INFO - Processed 100 posts\n",
      "2024-11-04 16:55:15,854 - INFO - Processed 200 posts\n",
      "2024-11-04 16:55:17,170 - INFO - Processed 300 posts\n",
      "2024-11-04 16:55:18,449 - INFO - Processed 400 posts\n",
      "2024-11-04 16:55:19,684 - INFO - Processed 500 posts\n",
      "2024-11-04 16:55:20,970 - INFO - Processed 600 posts\n",
      "2024-11-04 16:55:22,198 - INFO - Processed 700 posts\n",
      "2024-11-04 16:55:23,263 - INFO - Processed 800 posts\n",
      "2024-11-04 16:55:24,451 - INFO - Processed 900 posts\n",
      "2024-11-04 16:55:25,351 - INFO - Added 998 posts using top/all\n",
      "2024-11-04 16:55:28,079 - INFO - Added 53 posts using top/year\n",
      "2024-11-04 16:55:30,258 - INFO - Added 2 posts using top/month\n"
     ]
    }
   ],
   "source": [
    "# Atheist Parenting Subreddit\n",
    "subreddit_name = 'atheistparents'\n",
    "atheist_data = reddit.scrape_subreddit(subreddit_name, start_date, end_date)\n",
    "atheist_df = pd.DataFrame(atheist_data)"
   ]
  },
  {
   "cell_type": "code",
   "execution_count": null,
   "metadata": {},
   "outputs": [
    {
     "name": "stderr",
     "output_type": "stream",
     "text": [
      "2024-11-04 16:55:32,269 - INFO - Starting scrape for r/MuslimParenting from 2015-01-01 to 2024-01-01\n",
      "2024-11-04 16:55:32,269 - INFO - Attempting to scrape using the subreddit.top() method.\n",
      "2024-11-04 16:55:34,345 - INFO - Processed 100 posts\n",
      "2024-11-04 16:55:36,384 - INFO - Processed 200 posts\n",
      "2024-11-04 16:55:38,092 - INFO - Processed 300 posts\n",
      "2024-11-04 16:55:38,514 - INFO - Added 317 posts using top/all\n",
      "2024-11-04 16:55:41,775 - INFO - Processed 100 posts\n",
      "2024-11-04 16:55:42,142 - INFO - Added 114 posts using top/year\n",
      "2024-11-04 16:55:44,513 - INFO - Added 13 posts using top/month\n"
     ]
    }
   ],
   "source": [
    "# Muslim Parenting Subreddit\n",
    "subreddit_name = 'MuslimParenting'\n",
    "muslim_data = reddit.scrape_subreddit(subreddit_name, start_date, end_date)\n",
    "muslim_df = pd.DataFrame(muslim_data)"
   ]
  },
  {
   "cell_type": "code",
   "execution_count": null,
   "metadata": {},
   "outputs": [
    {
     "name": "stderr",
     "output_type": "stream",
     "text": [
      "2024-11-04 16:54:46,812 - INFO - Starting scrape for r/CatholicParenting from 2015-01-01 to 2024-01-01\n",
      "2024-11-04 16:54:46,813 - INFO - Attempting to scrape using the subreddit.top() method.\n",
      "2024-11-04 16:54:48,245 - INFO - Processed 100 posts\n",
      "2024-11-04 16:54:48,813 - INFO - Added 158 posts using top/all\n",
      "2024-11-04 16:54:51,020 - INFO - Added 1 posts using top/year\n",
      "2024-11-04 16:54:53,223 - INFO - Added 1 posts using top/month\n"
     ]
    }
   ],
   "source": [
    "# Catholic Parenting Subreddit\n",
    "subreddit_name = 'CatholicParenting'\n",
    "christianity_data = reddit.scrape_subreddit(subreddit_name, start_date, end_date)\n",
    "christianity_df = pd.DataFrame(christianity_data)\n",
    "# christianity_df.to_csv('data/christianity.csv', index=False)"
   ]
  },
  {
   "cell_type": "code",
   "execution_count": null,
   "metadata": {},
   "outputs": [
    {
     "name": "stderr",
     "output_type": "stream",
     "text": [
      "2024-11-04 16:55:46,525 - INFO - Starting scrape for r/parenting from 2015-01-01 to 2024-01-01\n",
      "2024-11-04 16:55:46,526 - INFO - Attempting to scrape using the subreddit.top() method.\n",
      "2024-11-04 16:55:48,143 - INFO - Processed 100 posts\n",
      "2024-11-04 16:55:49,858 - INFO - Processed 200 posts\n",
      "2024-11-04 16:55:51,464 - INFO - Processed 300 posts\n",
      "2024-11-04 16:55:53,009 - INFO - Processed 400 posts\n",
      "2024-11-04 16:55:54,628 - INFO - Processed 500 posts\n",
      "2024-11-04 16:55:56,322 - INFO - Processed 600 posts\n",
      "2024-11-04 16:55:58,083 - INFO - Processed 700 posts\n",
      "2024-11-04 16:55:59,716 - INFO - Processed 800 posts\n",
      "2024-11-04 16:56:01,307 - INFO - Processed 900 posts\n",
      "2024-11-04 16:56:02,551 - INFO - Added 997 posts using top/all\n",
      "2024-11-04 16:56:06,221 - INFO - Processed 100 posts\n",
      "2024-11-04 16:56:08,019 - INFO - Processed 200 posts\n",
      "2024-11-04 16:56:09,585 - INFO - Processed 300 posts\n",
      "2024-11-04 16:56:11,568 - INFO - Processed 400 posts\n",
      "2024-11-04 16:56:13,470 - INFO - Processed 500 posts\n",
      "2024-11-04 16:56:15,670 - INFO - Processed 600 posts\n",
      "2024-11-04 16:56:17,699 - INFO - Processed 700 posts\n",
      "2024-11-04 16:56:19,549 - INFO - Processed 800 posts\n",
      "2024-11-04 16:56:21,012 - INFO - Processed 900 posts\n",
      "2024-11-04 16:56:22,206 - INFO - Processed 1000 posts\n",
      "2024-11-04 16:56:22,362 - INFO - Added 1000 posts using top/year\n",
      "2024-11-04 16:56:26,156 - INFO - Processed 100 posts\n",
      "2024-11-04 16:56:28,032 - INFO - Processed 200 posts\n",
      "2024-11-04 16:56:29,582 - INFO - Processed 300 posts\n",
      "2024-11-04 16:56:31,040 - INFO - Processed 400 posts\n",
      "2024-11-04 16:56:32,872 - INFO - Processed 500 posts\n",
      "2024-11-04 16:56:34,630 - INFO - Processed 600 posts\n",
      "2024-11-04 16:56:36,364 - INFO - Processed 700 posts\n",
      "2024-11-04 16:56:37,974 - INFO - Processed 800 posts\n",
      "2024-11-04 16:56:39,408 - INFO - Processed 900 posts\n",
      "2024-11-04 16:56:40,569 - INFO - Added 997 posts using top/month\n"
     ]
    }
   ],
   "source": [
    "# General Parenting Subreddit\n",
    "subreddit_name = 'parenting'\n",
    "parenting_general_data = reddit.scrape_subreddit(subreddit_name, start_date, end_date)\n",
    "parenting_gen_df = pd.DataFrame(parenting_general_data)"
   ]
  },
  {
   "cell_type": "code",
   "execution_count": 11,
   "metadata": {},
   "outputs": [],
   "source": [
    "df = pd.concat([christianity_df, atheist_df, muslim_df, parenting_gen_df], ignore_index=True)"
   ]
  },
  {
   "cell_type": "code",
   "execution_count": 15,
   "metadata": {},
   "outputs": [
    {
     "name": "stdout",
     "output_type": "stream",
     "text": [
      "Total number of posts gathered: 8321\n"
     ]
    }
   ],
   "source": [
    "print(f\"Total number of posts gathered: {len(df)}\")"
   ]
  },
  {
   "cell_type": "code",
   "execution_count": 16,
   "metadata": {},
   "outputs": [
    {
     "data": {
      "text/plain": [
       "subreddit\n",
       "atheistparents       3159\n",
       "Parenting            2994\n",
       "CatholicParenting    1280\n",
       "MuslimParenting       888\n",
       "Name: count, dtype: int64"
      ]
     },
     "execution_count": 16,
     "metadata": {},
     "output_type": "execute_result"
    }
   ],
   "source": [
    "df.subreddit.value_counts() "
   ]
  },
  {
   "cell_type": "markdown",
   "metadata": {},
   "source": [
    "---"
   ]
  },
  {
   "cell_type": "markdown",
   "metadata": {},
   "source": [
    "## Data Cleaning"
   ]
  },
  {
   "cell_type": "code",
   "execution_count": null,
   "metadata": {},
   "outputs": [
    {
     "data": {
      "text/html": [
       "<div>\n",
       "<style scoped>\n",
       "    .dataframe tbody tr th:only-of-type {\n",
       "        vertical-align: middle;\n",
       "    }\n",
       "\n",
       "    .dataframe tbody tr th {\n",
       "        vertical-align: top;\n",
       "    }\n",
       "\n",
       "    .dataframe thead th {\n",
       "        text-align: right;\n",
       "    }\n",
       "</style>\n",
       "<table border=\"1\" class=\"dataframe\">\n",
       "  <thead>\n",
       "    <tr style=\"text-align: right;\">\n",
       "      <th></th>\n",
       "      <th>ID</th>\n",
       "      <th>title</th>\n",
       "      <th>author</th>\n",
       "      <th>created_time</th>\n",
       "      <th>url</th>\n",
       "      <th>score</th>\n",
       "      <th>permalink</th>\n",
       "      <th>subreddit</th>\n",
       "      <th>selftext</th>\n",
       "      <th>num_comments</th>\n",
       "      <th>is_self</th>\n",
       "      <th>link_flair_text</th>\n",
       "      <th>link_flair_css_class</th>\n",
       "      <th>upvote_ratio</th>\n",
       "      <th>over_18_content</th>\n",
       "      <th>tag</th>\n",
       "    </tr>\n",
       "  </thead>\n",
       "  <tbody>\n",
       "    <tr>\n",
       "      <th>7187</th>\n",
       "      <td>1bewybh</td>\n",
       "      <td>My child is out of control</td>\n",
       "      <td>Momwhocares1</td>\n",
       "      <td>2024-03-14 21:43:21+00:00</td>\n",
       "      <td>https://www.reddit.com/r/Parenting/comments/1b...</td>\n",
       "      <td>370</td>\n",
       "      <td>/r/Parenting/comments/1bewybh/my_child_is_out_...</td>\n",
       "      <td>Parenting</td>\n",
       "      <td>Y’all my 17 year old daughter continues to mak...</td>\n",
       "      <td>183</td>\n",
       "      <td>True</td>\n",
       "      <td>Teenager 13-19 Years</td>\n",
       "      <td>teenager</td>\n",
       "      <td>0.92</td>\n",
       "      <td>False</td>\n",
       "      <td>Teenager 13-19 Years</td>\n",
       "    </tr>\n",
       "    <tr>\n",
       "      <th>5071</th>\n",
       "      <td>iqcpff</td>\n",
       "      <td>**Homeschooling Philosophies/Methods**</td>\n",
       "      <td>[deleted]</td>\n",
       "      <td>2020-09-10 22:26:09+01:00</td>\n",
       "      <td>https://www.reddit.com/r/MuslimParenting/comme...</td>\n",
       "      <td>5</td>\n",
       "      <td>/r/MuslimParenting/comments/iqcpff/homeschooli...</td>\n",
       "      <td>MuslimParenting</td>\n",
       "      <td>I wanted to share a few things about Homeschoo...</td>\n",
       "      <td>15</td>\n",
       "      <td>True</td>\n",
       "      <td>Schooling</td>\n",
       "      <td>NaN</td>\n",
       "      <td>1.00</td>\n",
       "      <td>False</td>\n",
       "      <td>Schooling</td>\n",
       "    </tr>\n",
       "    <tr>\n",
       "      <th>1073</th>\n",
       "      <td>66pt0p</td>\n",
       "      <td>Secular Adoption</td>\n",
       "      <td>mminaz</td>\n",
       "      <td>2017-04-21 16:13:53+01:00</td>\n",
       "      <td>https://www.reddit.com/r/atheistparents/commen...</td>\n",
       "      <td>23</td>\n",
       "      <td>/r/atheistparents/comments/66pt0p/secular_adop...</td>\n",
       "      <td>atheistparents</td>\n",
       "      <td>We live in Arizona and are seriously looking i...</td>\n",
       "      <td>6</td>\n",
       "      <td>True</td>\n",
       "      <td>NaN</td>\n",
       "      <td>NaN</td>\n",
       "      <td>0.94</td>\n",
       "      <td>False</td>\n",
       "      <td>NaN</td>\n",
       "    </tr>\n",
       "  </tbody>\n",
       "</table>\n",
       "</div>"
      ],
      "text/plain": [
       "           ID                                   title        author  \\\n",
       "7187  1bewybh             My child is out of control   Momwhocares1   \n",
       "5071   iqcpff  **Homeschooling Philosophies/Methods**     [deleted]   \n",
       "1073   66pt0p                        Secular Adoption        mminaz   \n",
       "\n",
       "                   created_time  \\\n",
       "7187  2024-03-14 21:43:21+00:00   \n",
       "5071  2020-09-10 22:26:09+01:00   \n",
       "1073  2017-04-21 16:13:53+01:00   \n",
       "\n",
       "                                                    url  score  \\\n",
       "7187  https://www.reddit.com/r/Parenting/comments/1b...    370   \n",
       "5071  https://www.reddit.com/r/MuslimParenting/comme...      5   \n",
       "1073  https://www.reddit.com/r/atheistparents/commen...     23   \n",
       "\n",
       "                                              permalink        subreddit  \\\n",
       "7187  /r/Parenting/comments/1bewybh/my_child_is_out_...        Parenting   \n",
       "5071  /r/MuslimParenting/comments/iqcpff/homeschooli...  MuslimParenting   \n",
       "1073  /r/atheistparents/comments/66pt0p/secular_adop...   atheistparents   \n",
       "\n",
       "                                               selftext  num_comments  \\\n",
       "7187  Y’all my 17 year old daughter continues to mak...           183   \n",
       "5071  I wanted to share a few things about Homeschoo...            15   \n",
       "1073  We live in Arizona and are seriously looking i...             6   \n",
       "\n",
       "      is_self       link_flair_text link_flair_css_class  upvote_ratio  \\\n",
       "7187     True  Teenager 13-19 Years             teenager          0.92   \n",
       "5071     True             Schooling                  NaN          1.00   \n",
       "1073     True                   NaN                  NaN          0.94   \n",
       "\n",
       "      over_18_content                   tag  \n",
       "7187            False  Teenager 13-19 Years  \n",
       "5071            False             Schooling  \n",
       "1073            False                   NaN  "
      ]
     },
     "execution_count": 2,
     "metadata": {},
     "output_type": "execute_result"
    }
   ],
   "source": [
    "# Cleaning the text column\n",
    "df.sample(3)"
   ]
  },
  {
   "cell_type": "code",
   "execution_count": 11,
   "metadata": {},
   "outputs": [],
   "source": [
    "df['selftext_clean'] = df['selftext'].apply(lambda x: clean_text(x) if isinstance(x, str) else \"\")\n",
    "df['title_clean'] = df['title'].apply(lambda x: clean_text(x) if isinstance(x, str) else \"\")"
   ]
  },
  {
   "cell_type": "markdown",
   "metadata": {},
   "source": [
    "__Exporting Dataset to CSV__"
   ]
  },
  {
   "cell_type": "code",
   "execution_count": 13,
   "metadata": {},
   "outputs": [],
   "source": [
    "df.to_csv(\"data/reddit_parenting_combined.csv\", index=False)"
   ]
  },
  {
   "cell_type": "code",
   "execution_count": 14,
   "metadata": {},
   "outputs": [
    {
     "data": {
      "text/html": [
       "<div>\n",
       "<style scoped>\n",
       "    .dataframe tbody tr th:only-of-type {\n",
       "        vertical-align: middle;\n",
       "    }\n",
       "\n",
       "    .dataframe tbody tr th {\n",
       "        vertical-align: top;\n",
       "    }\n",
       "\n",
       "    .dataframe thead th {\n",
       "        text-align: right;\n",
       "    }\n",
       "</style>\n",
       "<table border=\"1\" class=\"dataframe\">\n",
       "  <thead>\n",
       "    <tr style=\"text-align: right;\">\n",
       "      <th></th>\n",
       "      <th>ID</th>\n",
       "      <th>title</th>\n",
       "      <th>author</th>\n",
       "      <th>created_time</th>\n",
       "      <th>url</th>\n",
       "      <th>score</th>\n",
       "      <th>permalink</th>\n",
       "      <th>subreddit</th>\n",
       "      <th>selftext</th>\n",
       "      <th>num_comments</th>\n",
       "      <th>is_self</th>\n",
       "      <th>link_flair_text</th>\n",
       "      <th>link_flair_css_class</th>\n",
       "      <th>upvote_ratio</th>\n",
       "      <th>over_18_content</th>\n",
       "      <th>tag</th>\n",
       "      <th>selftext_clean</th>\n",
       "      <th>title_clean</th>\n",
       "    </tr>\n",
       "  </thead>\n",
       "  <tbody>\n",
       "    <tr>\n",
       "      <th>4035</th>\n",
       "      <td>q9phk8</td>\n",
       "      <td>how to explain religion to a 5 year old who ha...</td>\n",
       "      <td>nryporter25</td>\n",
       "      <td>2021-10-17 02:59:34+01:00</td>\n",
       "      <td>https://www.reddit.com/r/atheistparents/commen...</td>\n",
       "      <td>36</td>\n",
       "      <td>/r/atheistparents/comments/q9phk8/how_to_expla...</td>\n",
       "      <td>atheistparents</td>\n",
       "      <td>Hello all, \\n\\nSo my(30m)  daughter(5f) just t...</td>\n",
       "      <td>17</td>\n",
       "      <td>True</td>\n",
       "      <td>NaN</td>\n",
       "      <td>NaN</td>\n",
       "      <td>0.97</td>\n",
       "      <td>False</td>\n",
       "      <td>NaN</td>\n",
       "      <td>hello mym daughterf told right bed mad god loo...</td>\n",
       "      <td>explain religion year old heard god first time...</td>\n",
       "    </tr>\n",
       "    <tr>\n",
       "      <th>4187</th>\n",
       "      <td>1gaxep3</td>\n",
       "      <td>Discussion: Are Atheist parents happy with the...</td>\n",
       "      <td>DeliciousFlow4452</td>\n",
       "      <td>2024-10-24 09:00:22+01:00</td>\n",
       "      <td>https://www.reddit.com/r/atheistparents/commen...</td>\n",
       "      <td>27</td>\n",
       "      <td>/r/atheistparents/comments/1gaxep3/discussion_...</td>\n",
       "      <td>atheistparents</td>\n",
       "      <td>I am currently kicking around some big ideas f...</td>\n",
       "      <td>21</td>\n",
       "      <td>True</td>\n",
       "      <td>NaN</td>\n",
       "      <td>NaN</td>\n",
       "      <td>1.00</td>\n",
       "      <td>False</td>\n",
       "      <td>NaN</td>\n",
       "      <td>currently kicking around big ideas updated boo...</td>\n",
       "      <td>discussion atheist parents happy state atheist...</td>\n",
       "    </tr>\n",
       "  </tbody>\n",
       "</table>\n",
       "</div>"
      ],
      "text/plain": [
       "           ID                                              title  \\\n",
       "4035   q9phk8  how to explain religion to a 5 year old who ha...   \n",
       "4187  1gaxep3  Discussion: Are Atheist parents happy with the...   \n",
       "\n",
       "                 author               created_time  \\\n",
       "4035        nryporter25  2021-10-17 02:59:34+01:00   \n",
       "4187  DeliciousFlow4452  2024-10-24 09:00:22+01:00   \n",
       "\n",
       "                                                    url  score  \\\n",
       "4035  https://www.reddit.com/r/atheistparents/commen...     36   \n",
       "4187  https://www.reddit.com/r/atheistparents/commen...     27   \n",
       "\n",
       "                                              permalink       subreddit  \\\n",
       "4035  /r/atheistparents/comments/q9phk8/how_to_expla...  atheistparents   \n",
       "4187  /r/atheistparents/comments/1gaxep3/discussion_...  atheistparents   \n",
       "\n",
       "                                               selftext  num_comments  \\\n",
       "4035  Hello all, \\n\\nSo my(30m)  daughter(5f) just t...            17   \n",
       "4187  I am currently kicking around some big ideas f...            21   \n",
       "\n",
       "      is_self link_flair_text link_flair_css_class  upvote_ratio  \\\n",
       "4035     True             NaN                  NaN          0.97   \n",
       "4187     True             NaN                  NaN          1.00   \n",
       "\n",
       "      over_18_content  tag                                     selftext_clean  \\\n",
       "4035            False  NaN  hello mym daughterf told right bed mad god loo...   \n",
       "4187            False  NaN  currently kicking around big ideas updated boo...   \n",
       "\n",
       "                                            title_clean  \n",
       "4035  explain religion year old heard god first time...  \n",
       "4187  discussion atheist parents happy state atheist...  "
      ]
     },
     "execution_count": 14,
     "metadata": {},
     "output_type": "execute_result"
    }
   ],
   "source": [
    "df.sample(2)"
   ]
  },
  {
   "cell_type": "markdown",
   "metadata": {},
   "source": [
    "---"
   ]
  },
  {
   "cell_type": "markdown",
   "metadata": {},
   "source": []
  }
 ],
 "metadata": {
  "kernelspec": {
   "display_name": ".venv",
   "language": "python",
   "name": "python3"
  },
  "language_info": {
   "codemirror_mode": {
    "name": "ipython",
    "version": 3
   },
   "file_extension": ".py",
   "mimetype": "text/x-python",
   "name": "python",
   "nbconvert_exporter": "python",
   "pygments_lexer": "ipython3",
   "version": "3.12.3"
  }
 },
 "nbformat": 4,
 "nbformat_minor": 2
}
